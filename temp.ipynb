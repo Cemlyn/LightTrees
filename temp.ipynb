{
 "cells": [
  {
   "cell_type": "code",
   "execution_count": 48,
   "metadata": {},
   "outputs": [],
   "source": [
    "import pandas as pd\n",
    "import numpy as np\n",
    "from sklearn.datasets import load_wine\n",
    "from joblib import dump, load\n",
    "\n",
    "from collections import Counter\n",
    "import sklearn\n",
    "from sklearn.model_selection import train_test_split\n",
    "from sklearn.datasets import make_classification\n",
    "\n",
    "X, y = make_classification(n_samples=10**5, n_features=10**2,\n",
    "                           n_informative=3, n_redundant=0,\n",
    "                           random_state=0, shuffle=False)\n",
    "X = (X).astype('int8')\n",
    "X = (X>0).astype('int8')\n",
    "\n",
    "X_train, X_test, y_train, y_test = train_test_split(\n",
    "    X, y, test_size=0.25, random_state=42)"
   ]
  },
  {
   "cell_type": "code",
   "execution_count": 49,
   "metadata": {},
   "outputs": [
    {
     "name": "stdout",
     "output_type": "stream",
     "text": [
      "train gini:  0.2753588460903724\n",
      "test gini:  0.28091140982027385\n"
     ]
    },
    {
     "data": {
      "text/plain": [
       "['sklearn_dt.joblib']"
      ]
     },
     "execution_count": 49,
     "metadata": {},
     "output_type": "execute_result"
    }
   ],
   "source": [
    "from sklearn.tree import DecisionTreeClassifier\n",
    "from sklearn.metrics import roc_auc_score\n",
    "\n",
    "clf = DecisionTreeClassifier()\n",
    "clf.fit(X_train,y_train)\n",
    "gini = 2*roc_auc_score(y_train,clf.predict(X_train))-1\n",
    "print('train gini: ',gini)\n",
    "\n",
    "gini = 2*roc_auc_score(y_test,clf.predict(X_test))-1\n",
    "print('test gini: ',gini)\n",
    "dump(clf, 'sklearn_dt.joblib')"
   ]
  },
  {
   "cell_type": "code",
   "execution_count": 50,
   "metadata": {},
   "outputs": [],
   "source": [
    "#%timeit clf.predict(X_train)"
   ]
  },
  {
   "cell_type": "code",
   "execution_count": 51,
   "metadata": {},
   "outputs": [
    {
     "name": "stdout",
     "output_type": "stream",
     "text": [
      "train gini:  0.2753588460903724\n",
      "test gini:  0.28091140982027385\n"
     ]
    },
    {
     "data": {
      "text/plain": [
       "['sklearn_rf.joblib']"
      ]
     },
     "execution_count": 51,
     "metadata": {},
     "output_type": "execute_result"
    }
   ],
   "source": [
    "from sklearn.ensemble import RandomForestClassifier\n",
    "from sklearn.metrics import roc_auc_score\n",
    "\n",
    "clf_rf = RandomForestClassifier()\n",
    "clf_rf.fit(X_train,y_train)\n",
    "\n",
    "gini = 2*roc_auc_score(y_train,clf_rf.predict(X_train))-1\n",
    "print('train gini: ',gini)\n",
    "\n",
    "gini = 2*roc_auc_score(y_test,clf_rf.predict(X_test))-1\n",
    "print('test gini: ',gini)\n",
    "\n",
    "from joblib import dump, load\n",
    "dump(clf_rf, 'sklearn_rf.joblib')"
   ]
  },
  {
   "cell_type": "code",
   "execution_count": 52,
   "metadata": {},
   "outputs": [],
   "source": [
    "#%timeit clf_rf.predict(X_train)"
   ]
  },
  {
   "attachments": {},
   "cell_type": "markdown",
   "metadata": {},
   "source": [
    "Sklearn implementation stores irrelevant information from our perspective. Each node contains the following:\n",
    "- id for the split (int64)\n",
    "- id for the parent node (int64)\n",
    "- impurity or gain of the split (float64)"
   ]
  },
  {
   "cell_type": "code",
   "execution_count": 53,
   "metadata": {},
   "outputs": [
    {
     "name": "stdout",
     "output_type": "stream",
     "text": [
      "y_train mean: 0.5004666666666666\n"
     ]
    }
   ],
   "source": [
    "class Node:\n",
    "    def __init__(self, feature=None, threshold=None, left=None, right=None,*,value=None):\n",
    "        self.feature = feature\n",
    "        self.threshold = threshold\n",
    "        self.left = left\n",
    "        self.right = right\n",
    "        self.value = value\n",
    "        \n",
    "    def is_leaf_node(self):\n",
    "        return self.value is not None\n",
    "\n",
    "class Ptree:\n",
    "    def __init__(self, min_samples_split=2, max_depth=100, n_features=None,random_state=34):\n",
    "        self.min_samples_split=min_samples_split\n",
    "        self.max_depth=max_depth\n",
    "        self.n_features=n_features\n",
    "        self.root=None\n",
    "        self._is_fitted = False\n",
    "        self._random_state = random_state\n",
    "        self.shuffled_features = None\n",
    "        self.leaf_counter = 0\n",
    "\n",
    "    def fit(self, X, y):\n",
    "        self.n_features = X.shape[1] if not self.n_features else min(X.shape[1],self.n_features)\n",
    "\n",
    "        #self.shuffled_features = sklearn.utils.shuffle(self.n_features,random_state=self._random_state)\n",
    "        self.root = self._grow_tree(X, y)\n",
    "        self._is_fitted = True\n",
    "\n",
    "    def _grow_tree(self, X, y, depth=0):\n",
    "        n_samples, n_feats = X.shape\n",
    "        n_labels = len(np.unique(y))\n",
    "\n",
    "        # check the stopping criteria\n",
    "        if (depth>=self.max_depth or n_labels==1 or n_samples<self.min_samples_split):\n",
    "            leaf_value = self._most_common_label(y)\n",
    "            self.leaf_counter = self.leaf_counter+1\n",
    "            return Node(value=leaf_value)\n",
    "        \n",
    "        # find the best split in the data\n",
    "        feat_idxs = np.random.choice(n_feats, self.n_features, replace=False)\n",
    "\n",
    "        best_gain = -1\n",
    "        best_feature_idx = None\n",
    "        for feat_idx in feat_idxs:\n",
    "\n",
    "            # check feature has variance\n",
    "            X_col = X[:,feat_idx]\n",
    "            no_unique_vals = np.unique(X_col)\n",
    "            if (len(no_unique_vals)==1):\n",
    "                continue\n",
    "\n",
    "            # if it has variance then check the information gain\n",
    "            gain = self._information_gain(y, X_col)\n",
    "            if gain>best_gain:\n",
    "                best_gain=gain\n",
    "                best_feature_idx = feat_idx\n",
    "        \n",
    "        # if there are no vars with variance then return as a leaf\n",
    "        if best_feature_idx is None:\n",
    "            leaf_value = self._most_common_label(y)\n",
    "            self.leaf_counter = self.leaf_counter+1\n",
    "            return Node(value=leaf_value)\n",
    "        \n",
    "        left_idxs, right_idxs = self._split(X[:, best_feature_idx])\n",
    "        \n",
    "        left = self._grow_tree(X[left_idxs, :], y[left_idxs], depth+1)\n",
    "        right = self._grow_tree(X[right_idxs, :], y[right_idxs], depth+1)\n",
    "        return Node(best_feature_idx, 1, left, right)\n",
    "\n",
    "\n",
    "    def _best_feature(self, X, y, feat_idxs):\n",
    "        best_gain = -1\n",
    "        best_feature_idx = None\n",
    "\n",
    "        for feat_idx in feat_idxs:\n",
    "            X_column = X[:, feat_idx]\n",
    "            gain = self._information_gain(y, X_column)\n",
    "            if gain > best_gain:\n",
    "                best_gain = gain\n",
    "                best_feature_idx = feat_idx\n",
    "\n",
    "        return best_feature_idx\n",
    "\n",
    "\n",
    "    def _information_gain(self, y, X_column):\n",
    "        # parent entropy\n",
    "        parent_entropy = self._entropy(y)\n",
    "\n",
    "        # create children\n",
    "        left_idxs, right_idxs = (X_column==0).flatten().nonzero()[0], (X_column==1).flatten().nonzero()[0]\n",
    "        \n",
    "        # calculate the weighted avg. entropy of children\n",
    "        n = len(y)\n",
    "        n_l, n_r = len(left_idxs), len(right_idxs)\n",
    "        e_l, e_r = self._entropy(y[left_idxs]), self._entropy(y[right_idxs])\n",
    "        child_entropy = (n_l/n) * e_l + (n_r/n) * e_r\n",
    "\n",
    "        # calculate the IG\n",
    "        information_gain = parent_entropy - child_entropy\n",
    "        return information_gain\n",
    "\n",
    "    def _split(self, X_column):\n",
    "        left_idxs = (X_column==0).flatten().nonzero()[0]\n",
    "        right_idxs = (X_column==1).flatten().nonzero()[0]\n",
    "        return left_idxs, right_idxs\n",
    "\n",
    "    def _entropy(self, y):\n",
    "        hist = np.bincount(y)\n",
    "        ps = hist / len(y)\n",
    "        return -np.sum([p * np.log(p) for p in ps if p>0])\n",
    "\n",
    "\n",
    "    def _most_common_label(self, y):\n",
    "        counter = Counter(y)\n",
    "        return counter.most_common(1)[0][0]\n",
    "\n",
    "    def predict(self, X):\n",
    "        return np.array([self._traverse_tree(x, self.root) for x in X])\n",
    "\n",
    "    def _traverse_tree(self, x, node):\n",
    "        if node.is_leaf_node():\n",
    "            return node.value\n",
    "\n",
    "        if x[node.feature] == 0:\n",
    "            return self._traverse_tree(x, node.left)\n",
    "        return self._traverse_tree(x, node.right)\n",
    "    \n",
    "clf_cdt = Ptree()\n",
    "clf_cdt.fit(X_train,y_train)\n",
    "\n",
    "print('y_train mean:',np.mean(y_train))"
   ]
  },
  {
   "cell_type": "code",
   "execution_count": 54,
   "metadata": {},
   "outputs": [],
   "source": [
    "#%timeit clf_cdt.predict(X)"
   ]
  },
  {
   "cell_type": "code",
   "execution_count": 55,
   "metadata": {},
   "outputs": [
    {
     "name": "stdout",
     "output_type": "stream",
     "text": [
      "train gini:  0.2753588460903724\n",
      "test gini:  0.28091140982027385\n"
     ]
    },
    {
     "data": {
      "text/plain": [
       "['sklearn_custom_dt.joblib']"
      ]
     },
     "execution_count": 55,
     "metadata": {},
     "output_type": "execute_result"
    }
   ],
   "source": [
    "gini = 2*roc_auc_score(y_train,clf_cdt.predict(X_train))-1\n",
    "print('train gini: ',gini)\n",
    "\n",
    "gini = 2*roc_auc_score(y_test,clf_cdt.predict(X_test))-1\n",
    "print('test gini: ',gini)\n",
    "dump(clf_cdt, 'sklearn_custom_dt.joblib')"
   ]
  },
  {
   "cell_type": "code",
   "execution_count": 56,
   "metadata": {},
   "outputs": [],
   "source": [
    "class PRandF:\n",
    "    def __init__(self,n_estimators=32,max_depth=None,random_state=34):\n",
    "        self._n_estimators = n_estimators\n",
    "        self._random_state = random_state\n",
    "        self._nclasses = None\n",
    "\n",
    "        #random_state = np.arange(self._n_estimators)\n",
    "        self._estimators = [Ptree(random_state=i) for i in range(self._n_estimators)]\n",
    "        \n",
    "    def fit(self,X,y):\n",
    "        self._nclasses = len(np.unique(y))\n",
    "        self._classes = np.arange(self._nclasses)\n",
    "        for estimator in self._estimators:\n",
    "            estimator.fit(X,y)\n",
    "\n",
    "    def predict(self,X):\n",
    "        # for each estimator get the predicted class\n",
    "        # then create an empty zero array and fill the ith column with the class\n",
    "        predictions = np.stack([estimator.predict(X) for estimator in self._estimators])\n",
    "        predictions = np.transpose(predictions)\n",
    "\n",
    "        all_probs = list()\n",
    "        for obs_predictions in predictions:\n",
    "            obs_class_predictions = np.zeros(self._nclasses)\n",
    "            for obs_prediction in obs_predictions:\n",
    "                obs_class_predictions[obs_prediction] = obs_class_predictions[obs_prediction] + 1\n",
    "            obs_class_predictions = obs_class_predictions/sum(obs_class_predictions)\n",
    "            all_probs.append(obs_class_predictions)\n",
    "\n",
    "        probabilities = np.stack(all_probs)\n",
    "        predictions = probabilities.argmax(axis=1)\n",
    "        \n",
    "        return predictions\n",
    "\n",
    "clf_crf = PRandF(n_estimators=32)\n",
    "clf_crf.fit(X_train,y_train)"
   ]
  },
  {
   "cell_type": "code",
   "execution_count": 57,
   "metadata": {},
   "outputs": [],
   "source": [
    "#%timeit clf_crf.predict(X_test)"
   ]
  },
  {
   "cell_type": "code",
   "execution_count": 58,
   "metadata": {},
   "outputs": [
    {
     "name": "stdout",
     "output_type": "stream",
     "text": [
      "train gini:  0.2753588460903724\n",
      "test gini:  0.28091140982027385\n"
     ]
    },
    {
     "data": {
      "text/plain": [
       "['sklearn_custom_rf.joblib']"
      ]
     },
     "execution_count": 58,
     "metadata": {},
     "output_type": "execute_result"
    }
   ],
   "source": [
    "gini = 2*roc_auc_score(y_train,clf_crf.predict(X_train))-1\n",
    "print('train gini: ',gini)\n",
    "\n",
    "gini = 2*roc_auc_score(y_test,clf_crf.predict(X_test))-1\n",
    "print('test gini: ',gini)\n",
    "dump(clf_crf, 'sklearn_custom_rf.joblib')"
   ]
  },
  {
   "cell_type": "code",
   "execution_count": 59,
   "metadata": {},
   "outputs": [
    {
     "data": {
      "text/plain": [
       "0.156"
      ]
     },
     "execution_count": 59,
     "metadata": {},
     "output_type": "execute_result"
    }
   ],
   "source": [
    "39/250"
   ]
  },
  {
   "cell_type": "code",
   "execution_count": 60,
   "metadata": {},
   "outputs": [
    {
     "data": {
      "text/plain": [
       "1.5"
      ]
     },
     "execution_count": 60,
     "metadata": {},
     "output_type": "execute_result"
    }
   ],
   "source": [
    "10*0.15"
   ]
  },
  {
   "cell_type": "code",
   "execution_count": null,
   "metadata": {},
   "outputs": [],
   "source": []
  }
 ],
 "metadata": {
  "kernelspec": {
   "display_name": "generic",
   "language": "python",
   "name": "python3"
  },
  "language_info": {
   "codemirror_mode": {
    "name": "ipython",
    "version": 3
   },
   "file_extension": ".py",
   "mimetype": "text/x-python",
   "name": "python",
   "nbconvert_exporter": "python",
   "pygments_lexer": "ipython3",
   "version": "3.10.8"
  },
  "orig_nbformat": 4
 },
 "nbformat": 4,
 "nbformat_minor": 2
}
